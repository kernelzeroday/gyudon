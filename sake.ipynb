{
 "cells": [
  {
   "cell_type": "code",
   "execution_count": 1,
   "metadata": {},
   "outputs": [
    {
     "name": "stdout",
     "output_type": "stream",
     "text": [
      "Scenario 1: Adding 1 tablespoon of water results in 20.00% ABV.\n",
      "Scenario 2: Adding 2 tablespoons of water results in 13.33% ABV.\n"
     ]
    }
   ],
   "source": [
    "# Define the original volume and ABV\n",
    "volume_original = 14.79  # 1 tablespoon in mL\n",
    "abv_original = 0.40  # 40%\n",
    "\n",
    "# Scenario 1: Adding 1 tablespoon of water\n",
    "volume_final_1 = volume_original + 14.79  # adding 1 tablespoon of water\n",
    "abv_final_1 = (volume_original * abv_original) / volume_final_1\n",
    "\n",
    "# Scenario 2: Adding 2 tablespoons of water\n",
    "volume_final_2 = volume_original + (2 * 14.79)  # adding 2 tablespoons of water\n",
    "abv_final_2 = (volume_original * abv_original) / volume_final_2\n",
    "\n",
    "print(f\"Scenario 1: Adding 1 tablespoon of water results in {abv_final_1 * 100:.2f}% ABV.\")\n",
    "print(f\"Scenario 2: Adding 2 tablespoons of water results in {abv_final_2 * 100:.2f}% ABV.\")\n"
   ]
  }
 ],
 "metadata": {
  "kernelspec": {
   "display_name": "Python 3",
   "language": "python",
   "name": "python3"
  },
  "language_info": {
   "codemirror_mode": {
    "name": "ipython",
    "version": 3
   },
   "file_extension": ".py",
   "mimetype": "text/x-python",
   "name": "python",
   "nbconvert_exporter": "python",
   "pygments_lexer": "ipython3",
   "version": "3.10.13"
  },
  "orig_nbformat": 4
 },
 "nbformat": 4,
 "nbformat_minor": 2
}
